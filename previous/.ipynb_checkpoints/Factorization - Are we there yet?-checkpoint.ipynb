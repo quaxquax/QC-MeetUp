{
 "cells": [
  {
   "cell_type": "markdown",
   "metadata": {},
   "source": [
    "Factorization: Size Matters\n",
    "=================================\n",
    "The record set in 2012 still stands.\n",
    "\n",
    "As of writing this Notebook, [the largest number factorized with Shor's algorithm is __21__](http://adsabs.harvard.edu/abs/2012NaPho...6..773M).\n",
    "\n",
    "This was photonics based. [Ion trap realizations are catching up but made it only to 15 so far](https://scirate.com/arxiv/1507.08852).\n",
    "\n",
    "But the experiments have their detractors, some researchers are arguing [that these haven't been true implementation's of Shor's algorithm](https://www.semanticscholar.org/paper/Comment-on-Realization-of-a-scalable-Shor-algorith-Cao-Liu/edb06556b7dc87fd91137909dbe35c7106b73261).\n",
    "\n"
   ]
  },
  {
   "cell_type": "markdown",
   "metadata": {},
   "source": [
    "## How may qubits are needed to threaten current Cryptosystems? "
   ]
  },
  {
   "cell_type": "code",
   "execution_count": null,
   "metadata": {
    "collapsed": true
   },
   "outputs": [],
   "source": []
  }
 ],
 "metadata": {
  "kernelspec": {
   "display_name": "Bash",
   "language": "bash",
   "name": "bash"
  },
  "language_info": {
   "codemirror_mode": "shell",
   "file_extension": ".sh",
   "mimetype": "text/x-sh",
   "name": "bash"
  },
  "toc": {
   "colors": {
    "hover_highlight": "#DAA520",
    "running_highlight": "#FF0000",
    "selected_highlight": "#FFD700"
   },
   "moveMenuLeft": true,
   "nav_menu": {
    "height": "49px",
    "width": "252px"
   },
   "navigate_menu": true,
   "number_sections": true,
   "sideBar": true,
   "threshold": 4,
   "toc_cell": false,
   "toc_section_display": "block",
   "toc_window_display": false,
   "widenNotebook": false
  }
 },
 "nbformat": 4,
 "nbformat_minor": 2
}
